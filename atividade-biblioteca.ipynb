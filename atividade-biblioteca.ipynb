{
 "cells": [
  {
   "cell_type": "markdown",
   "metadata": {},
   "source": [
    "1. Suponha que você está desenvolvendo um sistema de biblioteca. Crie a\n",
    "classe Livro com as seguintes características:\n",
    "\n",
    "Atributos: titulo, autor, ano_publicacao.\n",
    "Métodos: exibir_detalhes."
   ]
  },
  {
   "cell_type": "code",
   "execution_count": 1,
   "metadata": {},
   "outputs": [
    {
     "name": "stdout",
     "output_type": "stream",
     "text": [
      "Nome do livro: e assim que começa\n",
      "Autor do livro: collen\n",
      "Ano de publicação: 2019\n"
     ]
    }
   ],
   "source": [
    "class Livro():\n",
    "    def __init__(self, titulo, autor, ano_publicacao):\n",
    "        self.titulo = titulo\n",
    "        self.autor = autor\n",
    "        self.ano_publicacao = ano_publicacao\n",
    "    def exibir_detalhes(self):\n",
    "        print(f\"Nome do livro: {self.titulo}\\nAutor do livro: {self.autor}\\nAno de publicação: {self.ano_publicacao}\")\n",
    "\n",
    "titulo = input(\"Digite o titulo do livro: \")\n",
    "autor = input(\"Digite o autor do livro: \")\n",
    "ano_publicacao = int(input(\"Digite o ano de publicação do livro: \"))\n",
    "\n",
    "livro_1 = Livro(titulo, autor, ano_publicacao)\n",
    "livro_1.exibir_detalhes()"
   ]
  },
  {
   "cell_type": "markdown",
   "metadata": {},
   "source": [
    "2. Crie um sistema para um aplicativo bancário, que possui a Classe\n",
    "ContaBancaria com as seguintes características:\n",
    "\n",
    "Atributos: titular, saldo, numero_conta e tipo_conta.\n",
    "Métodos: depositar, sacar, transferir e verificar_saldo.\n",
    "\n",
    "OBS: Após cada alteração no saldo, exiba o novo valor na tela."
   ]
  },
  {
   "cell_type": "code",
   "execution_count": 2,
   "metadata": {},
   "outputs": [
    {
     "name": "stdout",
     "output_type": "stream",
     "text": [
      "O saldo da conta do(a) luiz é de R$ 2200.0\n",
      "O saldo da conta atual do(a) luiz é de R$ 2000.0 e ele acabou de sacar R$ 200.0\n",
      "O saldo da conta do(a) luiz é de R$ 1000.0\n"
     ]
    }
   ],
   "source": [
    "class ContaBancaria():\n",
    "    def __init__(self, titular, saldo, numero_conta, tipo_conta):\n",
    "        self.titular = titular\n",
    "        self.saldo = saldo\n",
    "        self.numero_conta = numero_conta\n",
    "        self.tipo_conta = tipo_conta\n",
    "\n",
    "    def depositar(self):\n",
    "        valor = float(input(\"Digite o valor a ser depositado: \"))\n",
    "        self.saldo += valor\n",
    "        print(f\"O saldo da conta do(a) {self.titular} é de R$ {self.saldo}\")\n",
    "    \n",
    "    def sacar(self):\n",
    "        valor = float(input(\"Digite o valor a ser sacado: \"))\n",
    "        self.saldo -= valor\n",
    "        print(f\"O saldo da conta atual do(a) {self.titular} é de R$ {self.saldo} e ele acabou de sacar R$ {valor}\")\n",
    "    \n",
    "    def transferir(self):\n",
    "        conta_joao = 2000\n",
    "        valor = float(input(\"Digite o valor a ser transferido: \"))\n",
    "        if self.saldo >= valor:\n",
    "            self.saldo -= valor\n",
    "            conta_joao += valor\n",
    "        else:\n",
    "            print(\"Saldo insuficiente!\")\n",
    "\n",
    "    def verificar_saldo(self):\n",
    "        print(f\"O saldo da conta do(a) {self.titular} é de R$ {self.saldo}\")\n",
    "\n",
    "titular = input(\"Digite o nome do titular da conta: \")\n",
    "saldo = float(input(\"Digite o saldo da conta: \"))\n",
    "numero_conta = input(\"Digite o número da conta: \")\n",
    "tipo_conta = (input(\"Digite o tipo da conta (Corrente/Poupança): \"))\n",
    "\n",
    "conta = ContaBancaria(titular, saldo, numero_conta, tipo_conta)\n",
    "conta.depositar()\n",
    "conta.sacar()\n",
    "conta.transferir()\n",
    "conta.verificar_saldo()"
   ]
  },
  {
   "cell_type": "markdown",
   "metadata": {},
   "source": [
    "3. Desenvolva um sistema de estoque que possui a Classe produtos com as\n",
    "seguintes características:\n",
    "\n",
    "Atributos: nome, preco, quantidade e codigo.\n",
    "Métodos: calcular_total, atualizar_preco e verificar_disponibilidade."
   ]
  },
  {
   "cell_type": "code",
   "execution_count": null,
   "metadata": {},
   "outputs": [],
   "source": [
    "class Produtos:\n",
    "    def __init__(self, nome, preco, quantidade, codigo):\n",
    "        self.nome = nome\n",
    "        self.preco = preco\n",
    "        self.quantidade = quantidade\n",
    "        self.codigo = codigo\n",
    "\n",
    "    def calcular_total(self):\n",
    "        total = self.preco * self.quantidade\n",
    "        print(f\"O valor total é: R$ {total}\")\n",
    "\n",
    "    def atualizar_preco(self):\n",
    "        self.preco = float(input(\"Qual o novo valor do produto: \"))\n",
    "        print(f\"O novo preço do {self.nome} é R$ {self.preco}\")\n",
    "    \n",
    "    def verificar_disponibilidade(self):\n",
    "        print(f\"No estoque temos {self.quantidade} de {self.nome}\")\n",
    "\n",
    "nome = input(\"Qual o nome do produto: \")\n",
    "preco = float(input(\"Qual o preço do produto: \"))\n",
    "quantidade = int(input(\"Qual a quantidade do produto: \"))\n",
    "codigo = int(input(\"Qual o código do produto: \"))\n",
    "produto = Produtos(nome, preco, quantidade, codigo)\n",
    "produto.calcular_total()\n",
    "produto.atualizar_preco()\n",
    "produto.verificar_disponibilidade()"
   ]
  }
 ],
 "metadata": {
  "kernelspec": {
   "display_name": "Python 3",
   "language": "python",
   "name": "python3"
  },
  "language_info": {
   "codemirror_mode": {
    "name": "ipython",
    "version": 3
   },
   "file_extension": ".py",
   "mimetype": "text/x-python",
   "name": "python",
   "nbconvert_exporter": "python",
   "pygments_lexer": "ipython3",
   "version": "3.10.6"
  }
 },
 "nbformat": 4,
 "nbformat_minor": 2
}
